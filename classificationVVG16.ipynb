{
  "nbformat": 4,
  "nbformat_minor": 0,
  "metadata": {
    "colab": {
      "provenance": [],
      "gpuType": "T4",
      "include_colab_link": true
    },
    "kernelspec": {
      "name": "python3",
      "display_name": "Python 3"
    },
    "language_info": {
      "name": "python"
    },
    "accelerator": "GPU"
  },
  "cells": [
    {
      "cell_type": "markdown",
      "metadata": {
        "id": "view-in-github",
        "colab_type": "text"
      },
      "source": [
        "<a href=\"https://colab.research.google.com/github/maliksalman55/models/blob/main/classificationVVG16.ipynb\" target=\"_parent\"><img src=\"https://colab.research.google.com/assets/colab-badge.svg\" alt=\"Open In Colab\"/></a>"
      ]
    },
    {
      "cell_type": "code",
      "source": [
        "from google.colab import drive\n",
        "drive.mount ('/content/drive')"
      ],
      "metadata": {
        "colab": {
          "base_uri": "https://localhost:8080/"
        },
        "id": "GlTF4jh5Mo_U",
        "outputId": "02927118-aa40-43f0-e8df-ddc02ff121a7"
      },
      "execution_count": null,
      "outputs": [
        {
          "output_type": "stream",
          "name": "stdout",
          "text": [
            "Mounted at /content/drive\n"
          ]
        }
      ]
    },
    {
      "cell_type": "code",
      "source": [
        "import os\n",
        "import shutil\n",
        "\n",
        "src_path = '/content/drive/MyDrive/kaggle.json'\n",
        "dest_directory = '/root/.kaggle/'\n",
        "\n",
        "# Create the destination directory if it doesn't exist\n",
        "os.makedirs(dest_directory, exist_ok=True)\n",
        "\n",
        "# Copy the Kaggle JSON file to the destination\n",
        "shutil.copy(src_path, dest_directory)"
      ],
      "metadata": {
        "colab": {
          "base_uri": "https://localhost:8080/",
          "height": 35
        },
        "id": "icklG87A_Ux9",
        "outputId": "332c29e1-cd7d-40d6-eeb2-ee7b83581540"
      },
      "execution_count": null,
      "outputs": [
        {
          "output_type": "execute_result",
          "data": {
            "text/plain": [
              "'/root/.kaggle/kaggle.json'"
            ],
            "application/vnd.google.colaboratory.intrinsic+json": {
              "type": "string"
            }
          },
          "metadata": {},
          "execution_count": 3
        }
      ]
    },
    {
      "cell_type": "code",
      "execution_count": null,
      "metadata": {
        "id": "KCllkSPp96iH",
        "colab": {
          "base_uri": "https://localhost:8080/"
        },
        "outputId": "89dcefac-4ae8-4e51-b912-19731a85bdef"
      },
      "outputs": [
        {
          "output_type": "stream",
          "name": "stdout",
          "text": [
            "cp: cannot stat 'kaggle.json': No such file or directory\n"
          ]
        }
      ],
      "source": [
        "#rum this for kaggle link\n",
        "!mkdir -p ~/.kaggle\n",
        "!cp kaggle.json ~/.kaggle/"
      ]
    },
    {
      "cell_type": "code",
      "source": [],
      "metadata": {
        "id": "032uvk4xMnyl"
      },
      "execution_count": null,
      "outputs": []
    },
    {
      "cell_type": "code",
      "source": [
        "# run this for dataset download\n",
        "!kaggle datasets download -d markdaniellampa/fish-dataset\n"
      ],
      "metadata": {
        "colab": {
          "base_uri": "https://localhost:8080/"
        },
        "id": "7bCMCG2h-yY8",
        "outputId": "d1570f50-3f55-4f28-b4da-b2a95b421541"
      },
      "execution_count": null,
      "outputs": [
        {
          "output_type": "stream",
          "name": "stdout",
          "text": [
            "Downloading fish-dataset.zip to /content\n",
            "100% 1.57G/1.58G [00:15<00:00, 142MB/s]\n",
            "100% 1.58G/1.58G [00:15<00:00, 109MB/s]\n"
          ]
        }
      ]
    },
    {
      "cell_type": "code",
      "source": [
        "# unzip download file\n",
        "import zipfile\n",
        "zip_ref = zipfile.ZipFile ('/content/fish-dataset.zip','r')\n",
        "zip_ref.extractall('/content')\n",
        "zip_ref.close()"
      ],
      "metadata": {
        "id": "lliYu_I0-zlk"
      },
      "execution_count": null,
      "outputs": []
    },
    {
      "cell_type": "code",
      "source": [
        "# confirm dataset\n",
        "!kaggle datasets download /content/kaggle.json"
      ],
      "metadata": {
        "colab": {
          "base_uri": "https://localhost:8080/"
        },
        "id": "LoPbD-dV-5Dm",
        "outputId": "1b2d24ed-2ae2-432e-d912-ec37610f5c75"
      },
      "execution_count": null,
      "outputs": [
        {
          "output_type": "stream",
          "name": "stdout",
          "text": [
            "Invalid dataset specification /content/kaggle.json\n"
          ]
        }
      ]
    },
    {
      "cell_type": "code",
      "source": [
        "import numpy as np\n",
        "import tensorflow as tf\n",
        "import matplotlib.pyplot as plt\n"
      ],
      "metadata": {
        "id": "Lfe1v2-o-8Y-"
      },
      "execution_count": null,
      "outputs": []
    },
    {
      "cell_type": "code",
      "source": [
        "training_set = tf.keras.utils.image_dataset_from_directory(\n",
        "    '/content/FishImgDataset/train', # I pass and use train dataset path.\n",
        "    labels=\"inferred\", # because we hv labels dataset.\n",
        "    label_mode=\"categorical\",   # we use categorical became we hv more then 2 classes\n",
        "    class_names=None,\n",
        "    color_mode=\"rgb\",\n",
        "    batch_size=32,\n",
        "    image_size=(64, 64),\n",
        "    shuffle=True,\n",
        "    seed=None,\n",
        "    validation_split=None,\n",
        "    subset=None, # if we need to rotate image then put seed value.\n",
        "    interpolation=\"bilinear\",\n",
        "    follow_links=False,\n",
        "    crop_to_aspect_ratio=False\n",
        ")"
      ],
      "metadata": {
        "colab": {
          "base_uri": "https://localhost:8080/"
        },
        "id": "rM40rbc6_CWv",
        "outputId": "d89e27d8-c478-43de-b4d9-598c146a6d50"
      },
      "execution_count": null,
      "outputs": [
        {
          "output_type": "stream",
          "name": "stdout",
          "text": [
            "Found 8809 files belonging to 31 classes.\n"
          ]
        }
      ]
    },
    {
      "cell_type": "code",
      "source": [
        "#Validation Image Preprocessing\n",
        "validation_set = tf.keras.utils.image_dataset_from_directory(\n",
        "    '/content/FishImgDataset/val',\n",
        "    labels=\"inferred\",\n",
        "    label_mode=\"categorical\",\n",
        "    class_names=None,\n",
        "    color_mode=\"rgb\",\n",
        "    batch_size=32,\n",
        "    image_size=(64, 64),\n",
        "    shuffle=True,\n",
        "    seed=None,\n",
        "    validation_split=None,\n",
        "    subset=None,\n",
        "    interpolation=\"bilinear\",\n",
        "    follow_links=False,\n",
        "    crop_to_aspect_ratio=False\n",
        ")"
      ],
      "metadata": {
        "colab": {
          "base_uri": "https://localhost:8080/"
        },
        "id": "4TzvtB9R_JvO",
        "outputId": "8d5e195f-8b10-4174-d9dd-c3d0e80bc9ba"
      },
      "execution_count": null,
      "outputs": [
        {
          "output_type": "stream",
          "name": "stdout",
          "text": [
            "Found 2751 files belonging to 31 classes.\n"
          ]
        }
      ]
    },
    {
      "cell_type": "code",
      "source": [
        "#loading the pretrained vgg16 model\n",
        "from tensorflow.keras.applications import VGG16\n",
        "\n",
        "base_model = VGG16(weights='imagenet',\n",
        "                   include_top=False,\n",
        "                   input_shape=(224, 224, 3))  # Input size matches image_size"
      ],
      "metadata": {
        "colab": {
          "base_uri": "https://localhost:8080/"
        },
        "id": "rXyMZVthMGTc",
        "outputId": "6b922efe-70ff-4229-8d51-5ec08436db84"
      },
      "execution_count": null,
      "outputs": [
        {
          "output_type": "stream",
          "name": "stdout",
          "text": [
            "Downloading data from https://storage.googleapis.com/tensorflow/keras-applications/vgg16/vgg16_weights_tf_dim_ordering_tf_kernels_notop.h5\n",
            "58889256/58889256 [==============================] - 0s 0us/step\n"
          ]
        }
      ]
    },
    {
      "cell_type": "code",
      "source": [
        "#  Building Model\n",
        "model = tf.keras.Sequential()\n",
        "#cnn = tf.keras.models.Sequential()"
      ],
      "metadata": {
        "id": "NUb9S4H3_Obc"
      },
      "execution_count": null,
      "outputs": []
    },
    {
      "cell_type": "code",
      "source": [
        "#Building Convolution Layer\n",
        "model.add(tf.keras.layers.Conv2D(filters=32,kernel_size=3,padding='same',activation='relu',input_shape=[64,64,3]))\n",
        "model.add(tf.keras.layers.Conv2D(filters=32,kernel_size=3,activation='relu'))\n",
        "model.add(tf.keras.layers.MaxPool2D(pool_size=2,strides=2))"
      ],
      "metadata": {
        "id": "USyRSt5X_m2d"
      },
      "execution_count": null,
      "outputs": []
    },
    {
      "cell_type": "code",
      "source": [
        "\n",
        "model.add(tf.keras.layers.Dropout(0.25)) # This dropout helps model to over fitting"
      ],
      "metadata": {
        "id": "BNRtZtz5_rFl"
      },
      "execution_count": null,
      "outputs": []
    },
    {
      "cell_type": "code",
      "source": [
        "model.add(tf.keras.layers.Conv2D(filters=64,kernel_size=3,padding='same',activation='relu'))\n",
        "model.add(tf.keras.layers.Conv2D(filters=64,kernel_size=3,activation='relu'))\n",
        "model.add(tf.keras.layers.MaxPool2D(pool_size=2,strides=2))"
      ],
      "metadata": {
        "id": "v9p-WYpF_s3r"
      },
      "execution_count": null,
      "outputs": []
    },
    {
      "cell_type": "code",
      "source": [
        "model.add(tf.keras.layers.Dropout(0.25))\n",
        "model.add(tf.keras.layers.Flatten()) #\n",
        "model.add(tf.keras.layers.Dense(units=512,activation='relu')) # add nuronss 128.\n",
        "model.add(tf.keras.layers.Dense(units=256,activation='relu'))\n",
        "model.add(tf.keras.layers.Dropout(0.5)) #To avoid overfitting\n"
      ],
      "metadata": {
        "id": "GnIyeo_e_v7h"
      },
      "execution_count": null,
      "outputs": []
    },
    {
      "cell_type": "code",
      "source": [
        "#Output Layer\n",
        "model.add(tf.keras.layers.Dense(units=31,activation='softmax')) # we use sotmax because we hv categorical data"
      ],
      "metadata": {
        "id": "Npt_zt0vAGSi"
      },
      "execution_count": null,
      "outputs": []
    },
    {
      "cell_type": "code",
      "source": [
        "#Compiling and Training Phase\n",
        "model.compile(optimizer='adam',loss='categorical_crossentropy',metrics=['accuracy'])\n"
      ],
      "metadata": {
        "id": "_ZiFZ5V_AT02"
      },
      "execution_count": null,
      "outputs": []
    },
    {
      "cell_type": "code",
      "source": [
        "model.summary()\n"
      ],
      "metadata": {
        "colab": {
          "base_uri": "https://localhost:8080/"
        },
        "id": "pQLtFmTtAsLs",
        "outputId": "13c4e8d3-8603-43a5-b7f2-16dbf49e8e58"
      },
      "execution_count": null,
      "outputs": [
        {
          "output_type": "stream",
          "name": "stdout",
          "text": [
            "Model: \"sequential\"\n",
            "_________________________________________________________________\n",
            " Layer (type)                Output Shape              Param #   \n",
            "=================================================================\n",
            " conv2d (Conv2D)             (None, 64, 64, 32)        896       \n",
            "                                                                 \n",
            " conv2d_1 (Conv2D)           (None, 62, 62, 32)        9248      \n",
            "                                                                 \n",
            " max_pooling2d (MaxPooling2  (None, 31, 31, 32)        0         \n",
            " D)                                                              \n",
            "                                                                 \n",
            " dropout (Dropout)           (None, 31, 31, 32)        0         \n",
            "                                                                 \n",
            " conv2d_2 (Conv2D)           (None, 31, 31, 64)        18496     \n",
            "                                                                 \n",
            " conv2d_3 (Conv2D)           (None, 29, 29, 64)        36928     \n",
            "                                                                 \n",
            " max_pooling2d_1 (MaxPoolin  (None, 14, 14, 64)        0         \n",
            " g2D)                                                            \n",
            "                                                                 \n",
            " dropout_1 (Dropout)         (None, 14, 14, 64)        0         \n",
            "                                                                 \n",
            " flatten (Flatten)           (None, 12544)             0         \n",
            "                                                                 \n",
            " dense (Dense)               (None, 512)               6423040   \n",
            "                                                                 \n",
            " dense_1 (Dense)             (None, 256)               131328    \n",
            "                                                                 \n",
            " dropout_2 (Dropout)         (None, 256)               0         \n",
            "                                                                 \n",
            " dense_2 (Dense)             (None, 31)                7967      \n",
            "                                                                 \n",
            "=================================================================\n",
            "Total params: 6627903 (25.28 MB)\n",
            "Trainable params: 6627903 (25.28 MB)\n",
            "Non-trainable params: 0 (0.00 Byte)\n",
            "_________________________________________________________________\n"
          ]
        }
      ]
    },
    {
      "cell_type": "code",
      "source": [
        " training_history = model.fit(x=training_set,validation_data=validation_set,epochs=32) # also save traning history\n"
      ],
      "metadata": {
        "colab": {
          "base_uri": "https://localhost:8080/"
        },
        "id": "IGlN6VipBCfG",
        "outputId": "41caf931-5932-47e3-f354-d77af3429a2b"
      },
      "execution_count": null,
      "outputs": [
        {
          "output_type": "stream",
          "name": "stdout",
          "text": [
            "Epoch 1/32\n",
            "276/276 [==============================] - 216s 767ms/step - loss: 4.2610 - accuracy: 0.1295 - val_loss: 3.2396 - val_accuracy: 0.1436\n",
            "Epoch 2/32\n",
            "276/276 [==============================] - 217s 784ms/step - loss: 3.2315 - accuracy: 0.1520 - val_loss: 3.1705 - val_accuracy: 0.1596\n",
            "Epoch 3/32\n",
            "276/276 [==============================] - 214s 771ms/step - loss: 3.1492 - accuracy: 0.1653 - val_loss: 3.0479 - val_accuracy: 0.1876\n",
            "Epoch 4/32\n",
            "276/276 [==============================] - 212s 765ms/step - loss: 3.0676 - accuracy: 0.1828 - val_loss: 2.8573 - val_accuracy: 0.2319\n",
            "Epoch 5/32\n",
            "276/276 [==============================] - 214s 773ms/step - loss: 2.9273 - accuracy: 0.2141 - val_loss: 2.6824 - val_accuracy: 0.2784\n",
            "Epoch 6/32\n",
            "276/276 [==============================] - 210s 758ms/step - loss: 2.7248 - accuracy: 0.2581 - val_loss: 2.2980 - val_accuracy: 0.3791\n",
            "Epoch 7/32\n",
            "276/276 [==============================] - 212s 761ms/step - loss: 2.4307 - accuracy: 0.3265 - val_loss: 1.9996 - val_accuracy: 0.4646\n",
            "Epoch 8/32\n",
            "276/276 [==============================] - 211s 758ms/step - loss: 2.1690 - accuracy: 0.3978 - val_loss: 1.6470 - val_accuracy: 0.5656\n",
            "Epoch 9/32\n",
            "276/276 [==============================] - 210s 759ms/step - loss: 1.8675 - accuracy: 0.4760 - val_loss: 1.3035 - val_accuracy: 0.6496\n",
            "Epoch 10/32\n",
            "276/276 [==============================] - 224s 806ms/step - loss: 1.6024 - accuracy: 0.5436 - val_loss: 1.1126 - val_accuracy: 0.7005\n",
            "Epoch 11/32\n",
            "276/276 [==============================] - 216s 780ms/step - loss: 1.3620 - accuracy: 0.6105 - val_loss: 0.8948 - val_accuracy: 0.7659\n",
            "Epoch 12/32\n",
            "276/276 [==============================] - 219s 791ms/step - loss: 1.1410 - accuracy: 0.6806 - val_loss: 0.6633 - val_accuracy: 0.8350\n",
            "Epoch 13/32\n",
            "276/276 [==============================] - 222s 801ms/step - loss: 0.9414 - accuracy: 0.7285 - val_loss: 0.6405 - val_accuracy: 0.8611\n",
            "Epoch 14/32\n",
            "276/276 [==============================] - 217s 783ms/step - loss: 0.7807 - accuracy: 0.7748 - val_loss: 0.5503 - val_accuracy: 0.8713\n",
            "Epoch 15/32\n",
            "276/276 [==============================] - 220s 793ms/step - loss: 0.6680 - accuracy: 0.8109 - val_loss: 0.4116 - val_accuracy: 0.9218\n",
            "Epoch 16/32\n",
            "276/276 [==============================] - 221s 797ms/step - loss: 0.5475 - accuracy: 0.8399 - val_loss: 0.4969 - val_accuracy: 0.8942\n",
            "Epoch 17/32\n",
            "276/276 [==============================] - 219s 789ms/step - loss: 0.4600 - accuracy: 0.8655 - val_loss: 0.3705 - val_accuracy: 0.9335\n",
            "Epoch 18/32\n",
            "276/276 [==============================] - 217s 782ms/step - loss: 0.4319 - accuracy: 0.8783 - val_loss: 0.3481 - val_accuracy: 0.9364\n",
            "Epoch 19/32\n",
            "276/276 [==============================] - 237s 852ms/step - loss: 0.3465 - accuracy: 0.9046 - val_loss: 0.3694 - val_accuracy: 0.9389\n",
            "Epoch 20/32\n",
            "276/276 [==============================] - 220s 794ms/step - loss: 0.3449 - accuracy: 0.9074 - val_loss: 0.3717 - val_accuracy: 0.9342\n",
            "Epoch 21/32\n",
            "276/276 [==============================] - 218s 785ms/step - loss: 0.3165 - accuracy: 0.9109 - val_loss: 0.3179 - val_accuracy: 0.9444\n",
            "Epoch 22/32\n",
            "276/276 [==============================] - 219s 791ms/step - loss: 0.2500 - accuracy: 0.9302 - val_loss: 0.3438 - val_accuracy: 0.9455\n",
            "Epoch 23/32\n",
            "276/276 [==============================] - 221s 796ms/step - loss: 0.2586 - accuracy: 0.9296 - val_loss: 0.3392 - val_accuracy: 0.9444\n",
            "Epoch 24/32\n",
            "276/276 [==============================] - 218s 785ms/step - loss: 0.2536 - accuracy: 0.9317 - val_loss: 0.3306 - val_accuracy: 0.9462\n",
            "Epoch 25/32\n",
            "276/276 [==============================] - 218s 787ms/step - loss: 0.2606 - accuracy: 0.9295 - val_loss: 0.3591 - val_accuracy: 0.9386\n",
            "Epoch 26/32\n",
            "276/276 [==============================] - 217s 784ms/step - loss: 0.2100 - accuracy: 0.9449 - val_loss: 0.3733 - val_accuracy: 0.9418\n",
            "Epoch 27/32\n",
            "276/276 [==============================] - 221s 796ms/step - loss: 0.1805 - accuracy: 0.9508 - val_loss: 0.3425 - val_accuracy: 0.9509\n",
            "Epoch 28/32\n",
            "276/276 [==============================] - 217s 781ms/step - loss: 0.2116 - accuracy: 0.9476 - val_loss: 0.3430 - val_accuracy: 0.9495\n",
            "Epoch 29/32\n",
            "276/276 [==============================] - 228s 821ms/step - loss: 0.1974 - accuracy: 0.9499 - val_loss: 0.3722 - val_accuracy: 0.9502\n",
            "Epoch 30/32\n",
            "276/276 [==============================] - 223s 801ms/step - loss: 0.1644 - accuracy: 0.9555 - val_loss: 0.4151 - val_accuracy: 0.9498\n",
            "Epoch 31/32\n",
            "276/276 [==============================] - 221s 797ms/step - loss: 0.1968 - accuracy: 0.9488 - val_loss: 0.3581 - val_accuracy: 0.9498\n",
            "Epoch 32/32\n",
            "276/276 [==============================] - 232s 835ms/step - loss: 0.2010 - accuracy: 0.9531 - val_loss: 0.3452 - val_accuracy: 0.9422\n"
          ]
        }
      ]
    },
    {
      "cell_type": "code",
      "source": [
        "# Evaluating Model\n",
        "#Training set Accuracy\n",
        "train_loss, train_acc = model.evaluate(training_set)\n",
        "print('Training accuracy:', train_acc)"
      ],
      "metadata": {
        "id": "33BTTokmBPH2",
        "colab": {
          "base_uri": "https://localhost:8080/"
        },
        "outputId": "ee19fea3-c65e-412f-fabc-19a2965fdc12"
      },
      "execution_count": null,
      "outputs": [
        {
          "output_type": "stream",
          "name": "stdout",
          "text": [
            "276/276 [==============================] - 72s 257ms/step - loss: 0.0400 - accuracy: 0.9900\n",
            "Training accuracy: 0.9900102019309998\n"
          ]
        }
      ]
    },
    {
      "cell_type": "code",
      "source": [
        "#Validation set Accuracy\n",
        "val_loss, val_acc = model.evaluate(validation_set)\n",
        "print('Validation accuracy:', val_acc)"
      ],
      "metadata": {
        "id": "jxDaz8yMBVKw",
        "colab": {
          "base_uri": "https://localhost:8080/"
        },
        "outputId": "f85c62df-aefa-4c80-cf53-18744cdbf3e9"
      },
      "execution_count": null,
      "outputs": [
        {
          "output_type": "stream",
          "name": "stdout",
          "text": [
            "86/86 [==============================] - 21s 228ms/step - loss: 0.3452 - accuracy: 0.9422\n",
            "Validation accuracy: 0.9422028064727783\n"
          ]
        }
      ]
    },
    {
      "cell_type": "code",
      "source": [
        "model.save('/content/drive/MyDrive/vgg16_model.keras') # i save model (h5) is file extension"
      ],
      "metadata": {
        "id": "_iltUlUEBYkM"
      },
      "execution_count": null,
      "outputs": []
    },
    {
      "cell_type": "code",
      "source": [],
      "metadata": {
        "id": "ufAnpxlrZcF3"
      },
      "execution_count": null,
      "outputs": []
    },
    {
      "cell_type": "code",
      "execution_count": null,
      "metadata": {
        "id": "y0PqvS7UuqDu",
        "colab": {
          "base_uri": "https://localhost:8080/",
          "height": 365
        },
        "outputId": "f0cd7db0-7b05-4651-92cc-c4263a994caf"
      },
      "outputs": [
        {
          "output_type": "error",
          "ename": "ValueError",
          "evalue": "Layer 'conv2d' expected 2 variables, but received 0 variables during loading. Expected: ['conv2d/kernel:0', 'conv2d/bias:0']",
          "traceback": [
            "\u001b[0;31m---------------------------------------------------------------------------\u001b[0m",
            "\u001b[0;31mValueError\u001b[0m                                Traceback (most recent call last)",
            "\u001b[0;32m<ipython-input-23-779c48961ca6>\u001b[0m in \u001b[0;36m<cell line: 6>\u001b[0;34m()\u001b[0m\n\u001b[1;32m      4\u001b[0m \u001b[0;31m# Load the saved model\u001b[0m\u001b[0;34m\u001b[0m\u001b[0;34m\u001b[0m\u001b[0m\n\u001b[1;32m      5\u001b[0m \u001b[0msaved_model_path\u001b[0m \u001b[0;34m=\u001b[0m \u001b[0;34m'/content/drive/MyDrive/vgg16_model.keras'\u001b[0m  \u001b[0;31m# Specify the path to your saved model\u001b[0m\u001b[0;34m\u001b[0m\u001b[0;34m\u001b[0m\u001b[0m\n\u001b[0;32m----> 6\u001b[0;31m \u001b[0mloaded_model\u001b[0m \u001b[0;34m=\u001b[0m \u001b[0mtf\u001b[0m\u001b[0;34m.\u001b[0m\u001b[0mkeras\u001b[0m\u001b[0;34m.\u001b[0m\u001b[0mmodels\u001b[0m\u001b[0;34m.\u001b[0m\u001b[0mload_model\u001b[0m\u001b[0;34m(\u001b[0m\u001b[0msaved_model_path\u001b[0m\u001b[0;34m)\u001b[0m\u001b[0;34m\u001b[0m\u001b[0;34m\u001b[0m\u001b[0m\n\u001b[0m\u001b[1;32m      7\u001b[0m \u001b[0;34m\u001b[0m\u001b[0m\n\u001b[1;32m      8\u001b[0m \u001b[0;31m# Initialize lists to store true and predicted labels\u001b[0m\u001b[0;34m\u001b[0m\u001b[0;34m\u001b[0m\u001b[0m\n",
            "\u001b[0;32m/usr/local/lib/python3.10/dist-packages/keras/src/saving/saving_api.py\u001b[0m in \u001b[0;36mload_model\u001b[0;34m(filepath, custom_objects, compile, safe_mode, **kwargs)\u001b[0m\n\u001b[1;32m    252\u001b[0m                 \u001b[0;34mf\"with the native Keras format: {list(kwargs.keys())}\"\u001b[0m\u001b[0;34m\u001b[0m\u001b[0;34m\u001b[0m\u001b[0m\n\u001b[1;32m    253\u001b[0m             )\n\u001b[0;32m--> 254\u001b[0;31m         return saving_lib.load_model(\n\u001b[0m\u001b[1;32m    255\u001b[0m             \u001b[0mfilepath\u001b[0m\u001b[0;34m,\u001b[0m\u001b[0;34m\u001b[0m\u001b[0;34m\u001b[0m\u001b[0m\n\u001b[1;32m    256\u001b[0m             \u001b[0mcustom_objects\u001b[0m\u001b[0;34m=\u001b[0m\u001b[0mcustom_objects\u001b[0m\u001b[0;34m,\u001b[0m\u001b[0;34m\u001b[0m\u001b[0;34m\u001b[0m\u001b[0m\n",
            "\u001b[0;32m/usr/local/lib/python3.10/dist-packages/keras/src/saving/saving_lib.py\u001b[0m in \u001b[0;36mload_model\u001b[0;34m(filepath, custom_objects, compile, safe_mode)\u001b[0m\n\u001b[1;32m    279\u001b[0m \u001b[0;34m\u001b[0m\u001b[0m\n\u001b[1;32m    280\u001b[0m     \u001b[0;32mexcept\u001b[0m \u001b[0mException\u001b[0m \u001b[0;32mas\u001b[0m \u001b[0me\u001b[0m\u001b[0;34m:\u001b[0m\u001b[0;34m\u001b[0m\u001b[0;34m\u001b[0m\u001b[0m\n\u001b[0;32m--> 281\u001b[0;31m         \u001b[0;32mraise\u001b[0m \u001b[0me\u001b[0m\u001b[0;34m\u001b[0m\u001b[0;34m\u001b[0m\u001b[0m\n\u001b[0m\u001b[1;32m    282\u001b[0m     \u001b[0;32melse\u001b[0m\u001b[0;34m:\u001b[0m\u001b[0;34m\u001b[0m\u001b[0;34m\u001b[0m\u001b[0m\n\u001b[1;32m    283\u001b[0m         \u001b[0;32mreturn\u001b[0m \u001b[0mmodel\u001b[0m\u001b[0;34m\u001b[0m\u001b[0;34m\u001b[0m\u001b[0m\n",
            "\u001b[0;32m/usr/local/lib/python3.10/dist-packages/keras/src/saving/saving_lib.py\u001b[0m in \u001b[0;36mload_model\u001b[0;34m(filepath, custom_objects, compile, safe_mode)\u001b[0m\n\u001b[1;32m    267\u001b[0m                 \u001b[0masset_store\u001b[0m \u001b[0;34m=\u001b[0m \u001b[0;32mNone\u001b[0m\u001b[0;34m\u001b[0m\u001b[0;34m\u001b[0m\u001b[0m\n\u001b[1;32m    268\u001b[0m \u001b[0;34m\u001b[0m\u001b[0m\n\u001b[0;32m--> 269\u001b[0;31m             _load_state(\n\u001b[0m\u001b[1;32m    270\u001b[0m                 \u001b[0mmodel\u001b[0m\u001b[0;34m,\u001b[0m\u001b[0;34m\u001b[0m\u001b[0;34m\u001b[0m\u001b[0m\n\u001b[1;32m    271\u001b[0m                 \u001b[0mweights_store\u001b[0m\u001b[0;34m=\u001b[0m\u001b[0mweights_store\u001b[0m\u001b[0;34m,\u001b[0m\u001b[0;34m\u001b[0m\u001b[0;34m\u001b[0m\u001b[0m\n",
            "\u001b[0;32m/usr/local/lib/python3.10/dist-packages/keras/src/saving/saving_lib.py\u001b[0m in \u001b[0;36m_load_state\u001b[0;34m(trackable, weights_store, assets_store, inner_path, skip_mismatch, visited_trackables)\u001b[0m\n\u001b[1;32m    464\u001b[0m             )\n\u001b[1;32m    465\u001b[0m         \u001b[0;32melif\u001b[0m \u001b[0misinstance\u001b[0m\u001b[0;34m(\u001b[0m\u001b[0mchild_obj\u001b[0m\u001b[0;34m,\u001b[0m \u001b[0;34m(\u001b[0m\u001b[0mlist\u001b[0m\u001b[0;34m,\u001b[0m \u001b[0mdict\u001b[0m\u001b[0;34m,\u001b[0m \u001b[0mtuple\u001b[0m\u001b[0;34m,\u001b[0m \u001b[0mset\u001b[0m\u001b[0;34m)\u001b[0m\u001b[0;34m)\u001b[0m\u001b[0;34m:\u001b[0m\u001b[0;34m\u001b[0m\u001b[0;34m\u001b[0m\u001b[0m\n\u001b[0;32m--> 466\u001b[0;31m             _load_container_state(\n\u001b[0m\u001b[1;32m    467\u001b[0m                 \u001b[0mchild_obj\u001b[0m\u001b[0;34m,\u001b[0m\u001b[0;34m\u001b[0m\u001b[0;34m\u001b[0m\u001b[0m\n\u001b[1;32m    468\u001b[0m                 \u001b[0mweights_store\u001b[0m\u001b[0;34m,\u001b[0m\u001b[0;34m\u001b[0m\u001b[0;34m\u001b[0m\u001b[0m\n",
            "\u001b[0;32m/usr/local/lib/python3.10/dist-packages/keras/src/saving/saving_lib.py\u001b[0m in \u001b[0;36m_load_container_state\u001b[0;34m(container, weights_store, assets_store, inner_path, skip_mismatch, visited_trackables)\u001b[0m\n\u001b[1;32m    532\u001b[0m             \u001b[0;32melse\u001b[0m\u001b[0;34m:\u001b[0m\u001b[0;34m\u001b[0m\u001b[0;34m\u001b[0m\u001b[0m\n\u001b[1;32m    533\u001b[0m                 \u001b[0mused_names\u001b[0m\u001b[0;34m[\u001b[0m\u001b[0mname\u001b[0m\u001b[0;34m]\u001b[0m \u001b[0;34m=\u001b[0m \u001b[0;36m0\u001b[0m\u001b[0;34m\u001b[0m\u001b[0;34m\u001b[0m\u001b[0m\n\u001b[0;32m--> 534\u001b[0;31m             _load_state(\n\u001b[0m\u001b[1;32m    535\u001b[0m                 \u001b[0mtrackable\u001b[0m\u001b[0;34m,\u001b[0m\u001b[0;34m\u001b[0m\u001b[0;34m\u001b[0m\u001b[0m\n\u001b[1;32m    536\u001b[0m                 \u001b[0mweights_store\u001b[0m\u001b[0;34m,\u001b[0m\u001b[0;34m\u001b[0m\u001b[0;34m\u001b[0m\u001b[0m\n",
            "\u001b[0;32m/usr/local/lib/python3.10/dist-packages/keras/src/saving/saving_lib.py\u001b[0m in \u001b[0;36m_load_state\u001b[0;34m(trackable, weights_store, assets_store, inner_path, skip_mismatch, visited_trackables)\u001b[0m\n\u001b[1;32m    433\u001b[0m                 )\n\u001b[1;32m    434\u001b[0m         \u001b[0;32melse\u001b[0m\u001b[0;34m:\u001b[0m\u001b[0;34m\u001b[0m\u001b[0;34m\u001b[0m\u001b[0m\n\u001b[0;32m--> 435\u001b[0;31m             \u001b[0mtrackable\u001b[0m\u001b[0;34m.\u001b[0m\u001b[0mload_own_variables\u001b[0m\u001b[0;34m(\u001b[0m\u001b[0mweights_store\u001b[0m\u001b[0;34m.\u001b[0m\u001b[0mget\u001b[0m\u001b[0;34m(\u001b[0m\u001b[0minner_path\u001b[0m\u001b[0;34m)\u001b[0m\u001b[0;34m)\u001b[0m\u001b[0;34m\u001b[0m\u001b[0;34m\u001b[0m\u001b[0m\n\u001b[0m\u001b[1;32m    436\u001b[0m \u001b[0;34m\u001b[0m\u001b[0m\n\u001b[1;32m    437\u001b[0m     \u001b[0;32mif\u001b[0m \u001b[0mhasattr\u001b[0m\u001b[0;34m(\u001b[0m\u001b[0mtrackable\u001b[0m\u001b[0;34m,\u001b[0m \u001b[0;34m\"load_assets\"\u001b[0m\u001b[0;34m)\u001b[0m \u001b[0;32mand\u001b[0m \u001b[0massets_store\u001b[0m\u001b[0;34m:\u001b[0m\u001b[0;34m\u001b[0m\u001b[0;34m\u001b[0m\u001b[0m\n",
            "\u001b[0;32m/usr/local/lib/python3.10/dist-packages/keras/src/engine/base_layer.py\u001b[0m in \u001b[0;36mload_own_variables\u001b[0;34m(self, store)\u001b[0m\n\u001b[1;32m   3529\u001b[0m         \u001b[0mall_vars\u001b[0m \u001b[0;34m=\u001b[0m \u001b[0mself\u001b[0m\u001b[0;34m.\u001b[0m\u001b[0m_trainable_weights\u001b[0m \u001b[0;34m+\u001b[0m \u001b[0mself\u001b[0m\u001b[0;34m.\u001b[0m\u001b[0m_non_trainable_weights\u001b[0m\u001b[0;34m\u001b[0m\u001b[0;34m\u001b[0m\u001b[0m\n\u001b[1;32m   3530\u001b[0m         \u001b[0;32mif\u001b[0m \u001b[0mlen\u001b[0m\u001b[0;34m(\u001b[0m\u001b[0mstore\u001b[0m\u001b[0;34m.\u001b[0m\u001b[0mkeys\u001b[0m\u001b[0;34m(\u001b[0m\u001b[0;34m)\u001b[0m\u001b[0;34m)\u001b[0m \u001b[0;34m!=\u001b[0m \u001b[0mlen\u001b[0m\u001b[0;34m(\u001b[0m\u001b[0mall_vars\u001b[0m\u001b[0;34m)\u001b[0m\u001b[0;34m:\u001b[0m\u001b[0;34m\u001b[0m\u001b[0;34m\u001b[0m\u001b[0m\n\u001b[0;32m-> 3531\u001b[0;31m             raise ValueError(\n\u001b[0m\u001b[1;32m   3532\u001b[0m                 \u001b[0;34mf\"Layer '{self.name}' expected {len(all_vars)} variables, \"\u001b[0m\u001b[0;34m\u001b[0m\u001b[0;34m\u001b[0m\u001b[0m\n\u001b[1;32m   3533\u001b[0m                 \u001b[0;34m\"but received \"\u001b[0m\u001b[0;34m\u001b[0m\u001b[0;34m\u001b[0m\u001b[0m\n",
            "\u001b[0;31mValueError\u001b[0m: Layer 'conv2d' expected 2 variables, but received 0 variables during loading. Expected: ['conv2d/kernel:0', 'conv2d/bias:0']"
          ]
        }
      ],
      "source": [
        "import numpy as np\n",
        "from sklearn.metrics import confusion_matrix, classification_report\n",
        "\n",
        "# Load the saved model\n",
        "saved_model_path = '/content/drive/MyDrive/vgg16_model.keras'  # Specify the path to your saved model\n",
        "loaded_model = tf.keras.models.load_model(saved_model_path)\n",
        "\n",
        "# Initialize lists to store true and predicted labels\n",
        "true_labels = []\n",
        "predicted_labels = []\n",
        "\n",
        "# Iterate through the validation dataset and collect true and predicted labels\n",
        "for images, labels in validation_set:\n",
        "    true_labels.extend(np.argmax(labels, axis=1))  # Extract true labels\n",
        "    predictions = loaded_model.predict(images)  # Predict labels\n",
        "    predicted_labels.extend(np.argmax(predictions, axis=1))\n",
        "\n",
        "# Compute the confusion matrix\n",
        "confusion = confusion_matrix(true_labels, predicted_labels)\n",
        "\n",
        "# Print the confusion matrix\n",
        "print(\"Confusion Matrix:\")\n",
        "print(confusion)\n",
        "\n",
        "# You can also print a classification report for additional metrics\n",
        "report = classification_report(true_labels, predicted_labels, labels=range(31), target_names=validation_set.class_names)\n",
        "print(\"Classification Report:\")\n",
        "print(report)\n",
        "\n"
      ]
    },
    {
      "cell_type": "code",
      "source": [],
      "metadata": {
        "id": "JM6BPAD29KmE"
      },
      "execution_count": null,
      "outputs": []
    },
    {
      "cell_type": "code",
      "source": [
        "training_history.history #Return Dictionary of history"
      ],
      "metadata": {
        "id": "ON1H4kBnBgBR",
        "colab": {
          "base_uri": "https://localhost:8080/"
        },
        "outputId": "124c2f16-cd6f-4d76-facb-29d103ce5e8c"
      },
      "execution_count": null,
      "outputs": [
        {
          "output_type": "execute_result",
          "data": {
            "text/plain": [
              "{'loss': [3.757824420928955,\n",
              "  2.6620655059814453,\n",
              "  2.319716453552246,\n",
              "  1.9812010526657104,\n",
              "  1.7086601257324219,\n",
              "  1.4427376985549927,\n",
              "  1.176976203918457,\n",
              "  0.9896876215934753,\n",
              "  0.8030335903167725,\n",
              "  0.6889391541481018,\n",
              "  0.5623465180397034,\n",
              "  0.48614537715911865,\n",
              "  0.4428030252456665,\n",
              "  0.41318824887275696,\n",
              "  0.3273141384124756,\n",
              "  0.3098927438259125,\n",
              "  0.3295177221298218,\n",
              "  0.2451234757900238,\n",
              "  0.23318907618522644,\n",
              "  0.2460302859544754,\n",
              "  0.24002021551132202,\n",
              "  0.2184104025363922,\n",
              "  0.22572307288646698,\n",
              "  0.20203398168087006,\n",
              "  0.2214100956916809,\n",
              "  0.20701491832733154,\n",
              "  0.16915017366409302,\n",
              "  0.17693011462688446,\n",
              "  0.18077369034290314,\n",
              "  0.16520535945892334,\n",
              "  0.189860999584198,\n",
              "  0.1748751848936081],\n",
              " 'accuracy': [0.16528549790382385,\n",
              "  0.27767056226730347,\n",
              "  0.3678056597709656,\n",
              "  0.45430809259414673,\n",
              "  0.522193193435669,\n",
              "  0.5985923409461975,\n",
              "  0.6681802868843079,\n",
              "  0.7131342887878418,\n",
              "  0.7755704522132874,\n",
              "  0.8013395667076111,\n",
              "  0.8353956341743469,\n",
              "  0.8592348694801331,\n",
              "  0.8753547668457031,\n",
              "  0.8818253874778748,\n",
              "  0.907367467880249,\n",
              "  0.9132705330848694,\n",
              "  0.9112271666526794,\n",
              "  0.9321148991584778,\n",
              "  0.9359745979309082,\n",
              "  0.9324554204940796,\n",
              "  0.9401748180389404,\n",
              "  0.9410829544067383,\n",
              "  0.9381314516067505,\n",
              "  0.9470995664596558,\n",
              "  0.942558765411377,\n",
              "  0.949256420135498,\n",
              "  0.9553865194320679,\n",
              "  0.9556135535240173,\n",
              "  0.953456699848175,\n",
              "  0.9569758176803589,\n",
              "  0.9505051374435425,\n",
              "  0.9552730321884155],\n",
              " 'val_loss': [2.7006373405456543,\n",
              "  2.232208251953125,\n",
              "  1.8961093425750732,\n",
              "  1.5496020317077637,\n",
              "  1.1691619157791138,\n",
              "  0.8917126655578613,\n",
              "  0.7921526432037354,\n",
              "  0.5918071269989014,\n",
              "  0.5433269739151001,\n",
              "  0.4363577961921692,\n",
              "  0.39193108677864075,\n",
              "  0.3720978796482086,\n",
              "  0.4922060966491699,\n",
              "  0.36069634556770325,\n",
              "  0.3650667369365692,\n",
              "  0.3783034384250641,\n",
              "  0.33787521719932556,\n",
              "  0.3586072027683258,\n",
              "  0.32371920347213745,\n",
              "  0.3621554970741272,\n",
              "  0.32678213715553284,\n",
              "  0.3022924065589905,\n",
              "  0.3460978865623474,\n",
              "  0.33132031559944153,\n",
              "  0.3410091698169708,\n",
              "  0.28909069299697876,\n",
              "  0.3092624843120575,\n",
              "  0.30722910165786743,\n",
              "  0.30208906531333923,\n",
              "  0.35047364234924316,\n",
              "  0.3378494679927826,\n",
              "  0.33622241020202637],\n",
              " 'val_accuracy': [0.2729916274547577,\n",
              "  0.408215194940567,\n",
              "  0.4783715009689331,\n",
              "  0.5954198241233826,\n",
              "  0.6928389668464661,\n",
              "  0.7800799608230591,\n",
              "  0.8127953410148621,\n",
              "  0.8658669590950012,\n",
              "  0.8760450482368469,\n",
              "  0.8996728658676147,\n",
              "  0.9229370951652527,\n",
              "  0.9280261993408203,\n",
              "  0.9113049507141113,\n",
              "  0.9247546195983887,\n",
              "  0.9265721440315247,\n",
              "  0.9233006238937378,\n",
              "  0.9334787130355835,\n",
              "  0.9407488107681274,\n",
              "  0.9392948150634766,\n",
              "  0.9316611886024475,\n",
              "  0.940021812915802,\n",
              "  0.9476553797721863,\n",
              "  0.9396582841873169,\n",
              "  0.9458378553390503,\n",
              "  0.9480189085006714,\n",
              "  0.94547438621521,\n",
              "  0.9487459063529968,\n",
              "  0.9458378553390503,\n",
              "  0.9494729042053223,\n",
              "  0.9443838596343994,\n",
              "  0.9491094350814819,\n",
              "  0.9505634307861328]}"
            ]
          },
          "metadata": {},
          "execution_count": 27
        }
      ]
    },
    {
      "cell_type": "code",
      "source": [
        "#Recording History in json\n",
        "import json\n",
        "with open('training_hist.json','w') as f:\n",
        "  json.dump(training_history.history,f)"
      ],
      "metadata": {
        "id": "TGooLEfLBrTJ"
      },
      "execution_count": null,
      "outputs": []
    },
    {
      "cell_type": "code",
      "source": [
        "print(training_history.history.keys())"
      ],
      "metadata": {
        "id": "-q7_PFl0Bsdx",
        "colab": {
          "base_uri": "https://localhost:8080/"
        },
        "outputId": "eb6240d4-00eb-4359-d05d-21b16cdb58e9"
      },
      "execution_count": null,
      "outputs": [
        {
          "output_type": "stream",
          "name": "stdout",
          "text": [
            "dict_keys(['loss', 'accuracy', 'val_loss', 'val_accuracy'])\n"
          ]
        }
      ]
    },
    {
      "cell_type": "code",
      "source": [
        "#Calculating Accuracy of Model Achieved on Validation set\n",
        "print(\"Validation set Accuracy: {} %\".format(training_history.history['val_accuracy'][-1]*100)) # (-1) show use final Accuracy"
      ],
      "metadata": {
        "id": "giK3Afg1Bvom"
      },
      "execution_count": null,
      "outputs": []
    },
    {
      "cell_type": "code",
      "source": [
        "#Accuracy Visualization Training Visualization\n",
        "epochs = [i for i in range(1,33)]\n",
        "plt.plot(epochs,training_history.history['accuracy'],color='red')\n",
        "plt.xlabel('No. of Epochs')\n",
        "plt.ylabel('Traiining Accuracy')\n",
        "plt.title('Visualization of Training Accuracy Result')\n",
        "plt.show()"
      ],
      "metadata": {
        "id": "3u68JFiBB2WS",
        "colab": {
          "base_uri": "https://localhost:8080/",
          "height": 472
        },
        "outputId": "e738fc7e-4814-46a9-b76c-63ea8d845414"
      },
      "execution_count": null,
      "outputs": [
        {
          "output_type": "display_data",
          "data": {
            "text/plain": [
              "<Figure size 640x480 with 1 Axes>"
            ],
            "image/png": "[encoded data removed]"
          },
          "metadata": {}
        }
      ]
    },
    {
      "cell_type": "code",
      "source": [
        "#Validation Accuracy\n",
        "plt.plot(epochs,training_history.history['val_accuracy'],color='blue')\n",
        "plt.xlabel('No. of Epochs')\n",
        "plt.ylabel('Validation Accuracy')\n",
        "plt.title('Visualization of Validation Accuracy Result')\n",
        "plt.show()"
      ],
      "metadata": {
        "id": "uUlOnMq5CA5B",
        "colab": {
          "base_uri": "https://localhost:8080/",
          "height": 472
        },
        "outputId": "8f063624-71c0-4832-c3cf-bd7ad22244f6"
      },
      "execution_count": null,
      "outputs": [
        {
          "output_type": "display_data",
          "data": {
            "text/plain": [
              "<Figure size 640x480 with 1 Axes>"
            ],
            "image/png": "[encoded data removed]"
          },
          "metadata": {}
        }
      ]
    },
    {
      "cell_type": "code",
      "source": [
        "import matplotlib.pyplot as plt\n",
        "\n",
        "epochs = [i for i in range(1, 33)]\n",
        "\n",
        "plt.plot(epochs, training_history.history['accuracy'], color='red', label='Training Accuracy')\n",
        "plt.plot(epochs, training_history.history['val_accuracy'], color='blue', label='Validation Accuracy')\n",
        "\n",
        "plt.xlabel('No. of Epochs')\n",
        "plt.ylabel('Accuracy')\n",
        "plt.title('Visualization of Training and Validation Accuracy Results')\n",
        "plt.legend()\n",
        "plt.show()"
      ],
      "metadata": {
        "colab": {
          "base_uri": "https://localhost:8080/",
          "height": 472
        },
        "id": "dA1C3OGWvpVT",
        "outputId": "aac21cd1-43d2-43fd-a2b0-6627abf4c715"
      },
      "execution_count": null,
      "outputs": [
        {
          "output_type": "display_data",
          "data": {
            "text/plain": [
              "<Figure size 640x480 with 1 Axes>"
            ],
            "image/png": "[encoded data removed]"
          },
          "metadata": {}
        }
      ]
    }
  ]
}